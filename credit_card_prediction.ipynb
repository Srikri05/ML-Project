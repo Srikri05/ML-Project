{
  "cells": [
    {
      "cell_type": "markdown",
      "metadata": {},
      "source": [
        "# Credit Card Limit Prediction\n",
        "\n",
        "This notebook implements a machine learning model to predict credit card limits using customer data.\n",
        "\n",
        "## Dataset\n",
        "Download the dataset from: https://www.kaggle.com/datasets/sakshigoyal7/credit-card-customers\n",
        "Place the `BankChurners.csv` file in the same directory as this notebook.\n"
      ]
    },
    {
      "cell_type": "code",
      "execution_count": null,
      "metadata": {},
      "outputs": [],
      "source": [
        "import pandas as pd\n",
        "import numpy as np\n",
        "from sklearn.model_selection import train_test_split\n",
        "from sklearn.preprocessing import StandardScaler, LabelEncoder\n",
        "import matplotlib.pyplot as plt\n",
        "import seaborn as sns\n",
        "\n",
        "# Set style for better plots\n",
        "plt.style.use('seaborn-v0_8')\n",
        "sns.set_palette(\"husl\")\n"
      ]
    },
    {
      "cell_type": "markdown",
      "metadata": {},
      "source": [
        "## Step 1: Load and Explore the Dataset\n"
      ]
    },
    {
      "cell_type": "code",
      "execution_count": null,
      "metadata": {},
      "outputs": [],
      "source": [
        "# Load the dataset\n",
        "df = pd.read_csv('BankChurners.csv')\n",
        "\n",
        "# Basic data exploration\n",
        "print(\"Dataset shape:\", df.shape)\n",
        "print(\"\\nColumn names:\")\n",
        "print(df.columns.tolist())\n",
        "print(\"\\nFirst 5 rows:\")\n",
        "print(df.head())\n"
      ]
    },
    {
      "cell_type": "code",
      "execution_count": null,
      "metadata": {},
      "outputs": [],
      "source": [
        "# Dataset info\n",
        "print(\"Dataset info:\")\n",
        "print(df.info())\n",
        "print(\"\\nMissing values:\")\n",
        "print(df.isnull().sum())\n"
      ]
    },
    {
      "cell_type": "markdown",
      "metadata": {},
      "source": [
        "## Step 2: Data Preprocessing\n"
      ]
    },
    {
      "cell_type": "code",
      "execution_count": null,
      "metadata": {},
      "outputs": [],
      "source": [
        "# Select target and features\n",
        "y = df['Credit_Limit']\n",
        "\n",
        "# Select the specified input features\n",
        "features_to_use = [\n",
        "    'Customer_Age',\n",
        "    'Dependent_count', \n",
        "    'Education_Level',\n",
        "    'Income_Category',\n",
        "    'Months_on_book',\n",
        "    'Total_Relationship_Count',\n",
        "    'Total_Trans_Amt',\n",
        "    'Marital_Status'\n",
        "]\n",
        "\n",
        "X = df[features_to_use].copy()\n",
        "\n",
        "print(\"Selected features:\")\n",
        "print(features_to_use)\n",
        "print(f\"\\nTarget variable (Credit_Limit) range: ${y.min():,.2f} - ${y.max():,.2f}\")\n"
      ]
    },
    {
      "cell_type": "code",
      "execution_count": null,
      "metadata": {},
      "outputs": [],
      "source": [
        "# Check for missing values in selected features\n",
        "print(\"Missing values per column:\")\n",
        "print(X.isnull().sum())\n",
        "\n",
        "# Check unique values in categorical columns\n",
        "print(\"\\nUnique values in categorical columns:\")\n",
        "for col in ['Education_Level', 'Income_Category', 'Marital_Status']:\n",
        "    print(f\"\\n{col}:\")\n",
        "    print(X[col].value_counts())\n"
      ]
    },
    {
      "cell_type": "code",
      "execution_count": null,
      "metadata": {},
      "outputs": [],
      "source": [
        "# Handle categorical variables with ordinal encoding\n",
        "\n",
        "# Education Level encoding\n",
        "education_mapping = {\n",
        "    'Unknown': 0,\n",
        "    'Uneducated': 1,\n",
        "    'High School': 2,\n",
        "    'College': 3,\n",
        "    'Graduate': 4,\n",
        "    'Post-Graduate': 5,\n",
        "    'Doctorate': 6\n",
        "}\n",
        "X['Education_Level'] = X['Education_Level'].map(education_mapping)\n",
        "\n",
        "# Income Category encoding\n",
        "income_mapping = {\n",
        "    'Unknown': 0,\n",
        "    'Less than $40K': 1,\n",
        "    '$40K - $60K': 2,\n",
        "    '$60K - $80K': 3,\n",
        "    '$80K - $120K': 4,\n",
        "    '$120K +': 5\n",
        "}\n",
        "X['Income_Category'] = X['Income_Category'].map(income_mapping)\n",
        "\n",
        "# Marital Status encoding\n",
        "marital_mapping = {\n",
        "    'Unknown': 0,\n",
        "    'Single': 1,\n",
        "    'Married': 2,\n",
        "    'Divorced': 3\n",
        "}\n",
        "X['Marital_Status'] = X['Marital_Status'].map(marital_mapping)\n",
        "\n",
        "# Fill any NaN values that resulted from mapping\n",
        "X = X.fillna(0)\n",
        "\n",
        "print(\"Categorical encoding complete!\")\n",
        "print(\"\\nEncoded features preview:\")\n",
        "print(X.head())\n"
      ]
    },
    {
      "cell_type": "markdown",
      "metadata": {},
      "source": []
    }
  ],
  "metadata": {
    "language_info": {
      "name": "python"
    }
  },
  "nbformat": 4,
  "nbformat_minor": 2
}
